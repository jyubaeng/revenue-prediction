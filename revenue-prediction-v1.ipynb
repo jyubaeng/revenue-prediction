{
 "cells": [
  {
   "cell_type": "code",
   "execution_count": 1,
   "metadata": {},
   "outputs": [],
   "source": [
    "import pandas as pd\n",
    "from sklearn.ensemble import GradientBoostingRegressor\n",
    "from sklearn.metrics import mean_absolute_error\n",
    "from sklearn.preprocessing import StandardScaler, OneHotEncoder\n",
    "from sklearn.compose import ColumnTransformer\n",
    "from sklearn.pipeline import Pipeline\n",
    "from sklearn.metrics import mean_squared_error, r2_score\n",
    "import matplotlib.pyplot as plt"
   ]
  },
  {
   "cell_type": "code",
   "execution_count": null,
   "metadata": {},
   "outputs": [],
   "source": [
    "data = pd.read_csv('data/data.txt', delimiter='\\t')"
   ]
  },
  {
   "cell_type": "code",
   "execution_count": null,
   "metadata": {},
   "outputs": [],
   "source": [
    "# Create dateimte from year, month and day\n",
    "data['date'] = pd.to_datetime(data['billing_year'].astype(str) + '-' + data['billing_month'].astype(str) + '-' + data['billing_day'].astype(str))\n",
    "data.set_index('date', inplace=True)"
   ]
  },
  {
   "cell_type": "code",
   "execution_count": null,
   "metadata": {},
   "outputs": [],
   "source": [
    "# Feature engineering\n",
    "data['day_of_month'] = data.index.day\n",
    "data['day_of_week'] = data.index.dayofweek\n",
    "data['month'] = data.index.month\n",
    "data['year'] = data.index.year\n"
   ]
  },
  {
   "cell_type": "code",
   "execution_count": null,
   "metadata": {},
   "outputs": [],
   "source": [
    "# Calculate rolling averages based on billing cycle\n",
    "data['rolling_avg_3m'] = data.groupby('billing_cycle')['billing_amount'].transform(lambda x: x.rolling(window=3, min_periods=1).mean())\n",
    "data['rolling_avg_6m'] = data.groupby('billing_cycle')['billing_amount'].transform(lambda x: x.rolling(window=6, min_periods=1).mean())\n",
    "\n",
    "# Lag features\n",
    "data['lag_1'] = data.groupby('billing_cycle')['billing_amount'].shift(1, axis=0)\n",
    "data['lag_1'] = data.groupby('billing_cycle')['lag_1'].apply(lambda x: x.ffill())\n",
    "\n",
    "data['lag_7'] = data.groupby('billing_cycle')['billing_amount'].shift(7, axis=0)\n",
    "data['lag_7'] = data.groupby('billing_cycle')['lag_7'].apply(lambda x: x.bfill())"
   ]
  },
  {
   "cell_type": "code",
   "execution_count": null,
   "metadata": {},
   "outputs": [],
   "source": [
    "future_data = data.loc['2024-07-09':'2024-07-25']\n",
    "\n",
    "data.dropna(inplace=True)"
   ]
  },
  {
   "cell_type": "code",
   "execution_count": null,
   "metadata": {},
   "outputs": [],
   "source": [
    "# Split data into train and test sets by report month\n",
    "train = data.loc[data['report_month'] < data['report_month'].max()]\n",
    "test = data.loc[data['report_month'] == data['report_month'].max()]"
   ]
  },
  {
   "cell_type": "code",
   "execution_count": null,
   "metadata": {},
   "outputs": [],
   "source": [
    "# Features and target\n",
    "features = ['billing_cycle','day_of_month','day_of_week','month','year','lag_1','lag_7','rolling_avg_3m','rolling_avg_6m']\n",
    "target = 'billing_amount'\n",
    "\n",
    "X_train = train[features]\n",
    "y_train = train[target]\n",
    "X_test = test[features]\n",
    "y_test = test[target]"
   ]
  },
  {
   "cell_type": "code",
   "execution_count": null,
   "metadata": {},
   "outputs": [],
   "source": [
    "# Preprocessing for numeric and categorial features\n",
    "numeric_features = ['billing_cycle','day_of_month','day_of_week','month','year','lag_1','lag_7','rolling_avg_3m','rolling_avg_6m']"
   ]
  },
  {
   "cell_type": "code",
   "execution_count": null,
   "metadata": {},
   "outputs": [],
   "source": [
    "preprocessor = ColumnTransformer(\n",
    "    transformers=[\n",
    "        ('num', StandardScaler(), numeric_features)])\n",
    "        #('cat', OneHotEncoder(), categorical_features)])"
   ]
  },
  {
   "cell_type": "code",
   "execution_count": null,
   "metadata": {},
   "outputs": [],
   "source": [
    "# Gradient Boosting pipeline\n",
    "pipeline = Pipeline(steps=[('preprocessor', preprocessor),\n",
    "                           ('regressor', GradientBoostingRegressor(n_estimators=100\n",
    "                                                                   ,learning_rate=0.1\n",
    "                                                                   ,max_depth=3\n",
    "                                                                   ,random_state=42))])"
   ]
  },
  {
   "cell_type": "code",
   "execution_count": null,
   "metadata": {},
   "outputs": [],
   "source": [
    "# Model training\n",
    "pipeline.fit(X_train, y_train)\n",
    "predictions_gb = pipeline.predict(X_test)\n",
    "\n",
    "# Evaluation\n",
    "mae_gb = mean_absolute_error(y_test, predictions_gb)\n",
    "r2 = r2_score(y_test, predictions_gb)\n",
    "print(f'Gradient Boosting MAE: {mae_gb}')\n",
    "print(f'Gradient Boosting R^2 Score: {r2}')"
   ]
  },
  {
   "cell_type": "code",
   "execution_count": null,
   "metadata": {},
   "outputs": [],
   "source": [
    "# Plot actual vs predicted values\n",
    "plt.figure(figsize=(12,6))\n",
    "plt.plot(y_test.index, y_test, label='Actual')\n",
    "plt.plot(y_test.index, predictions_gb, label='Predicted', linestyle='--')\n",
    "plt.xlabel('Date')\n",
    "plt.ylabel('Billing Amount')\n",
    "plt.title('Actual vs Predicted Billing Amount')\n",
    "plt.legend()\n",
    "plt.show()"
   ]
  },
  {
   "cell_type": "code",
   "execution_count": null,
   "metadata": {},
   "outputs": [],
   "source": [
    "# Create DataFrame with actual vs predicted values\n",
    "results_df = pd.DataFrame({'Actual': y_test, 'Predicted': predictions_gb}, index=y_test.index)\n",
    "results_df['Error %'] = ((results_df['Predicted'] - results_df['Actual']) / results_df['Actual']) * 100\n",
    "results_df['Actual'] = results_df['Actual'].apply(lambda x: f'{x:,.2f}')\n",
    "results_df['Predicted'] = results_df['Predicted'].apply(lambda x: f'{x:,.2f}')\n",
    "results_df['Error %'] = results_df['Error %'].apply(lambda x: f'{x:.2f}%')\n",
    "\n",
    "results_df\n",
    "\n",
    "# Predict future billing amounts\n",
    "future_predictions = pipeline.predict(future_data[features])\n",
    "\n",
    "# Create DataFrame for future predictions\n",
    "future_results_df = pd.DataFrame({'Predicted': future_predictions}, index=future_data.index)\n",
    "future_results_df['Predicted'] = future_results_df['Predicted'].apply(lambda x: f'{x:,.2f}')\n",
    "\n",
    "future_results_df"
   ]
  }
 ],
 "metadata": {
  "kernelspec": {
   "display_name": "base",
   "language": "python",
   "name": "python3"
  },
  "language_info": {
   "codemirror_mode": {
    "name": "ipython",
    "version": 3
   },
   "file_extension": ".py",
   "mimetype": "text/x-python",
   "name": "python",
   "nbconvert_exporter": "python",
   "pygments_lexer": "ipython3",
   "version": "3.11.5"
  }
 },
 "nbformat": 4,
 "nbformat_minor": 2
}
